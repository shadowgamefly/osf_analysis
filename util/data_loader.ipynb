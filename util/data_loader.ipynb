{
 "cells": [
  {
   "cell_type": "code",
   "execution_count": 4,
   "metadata": {
    "collapsed": true
   },
   "outputs": [],
   "source": [
    "import os\n",
    "import json\n",
    "import pickle"
   ]
  },
  {
   "cell_type": "code",
   "execution_count": 5,
   "metadata": {
    "collapsed": true
   },
   "outputs": [],
   "source": [
    "def load_name_data(directory):\n",
    "    sex_dicr = {}\n",
    "    for file in os.listdir(directory):\n",
    "        filename = os.fsdecode(file)\n",
    "        if filename.endswith(\".txt\"): \n",
    "            with open(os.path.join(directory, file), 'rb') as f:\n",
    "                content = f.readlines()\n",
    "                for line in content:\n",
    "                    result = line.decode().split(',')\n",
    "                    name, gender, num = result[0].lower(), int(result[1] == 'F'), int(result[2])\n",
    "                    if name in sex_dict:\n",
    "                        sex_dict[name][gender] += num\n",
    "                    else :\n",
    "                        sex_dict[name] = [0, 0];\n",
    "                        sex_dict[name][gender] += num;\n",
    "        else:\n",
    "            continue\n",
    "    with open('gender.pickle', 'wb') as f:\n",
    "        pickle.dump(sex_dict, f, pickle.HIGHEST_PROTOCOL)\n",
    "        print('dictionary has been saved in root directory')\n",
    "    return sex_dict"
   ]
  }
 ],
 "metadata": {
  "kernelspec": {
   "display_name": "Python 3",
   "language": "python",
   "name": "python3"
  },
  "language_info": {
   "codemirror_mode": {
    "name": "ipython",
    "version": 3
   },
   "file_extension": ".py",
   "mimetype": "text/x-python",
   "name": "python",
   "nbconvert_exporter": "python",
   "pygments_lexer": "ipython3",
   "version": "3.6.1"
  }
 },
 "nbformat": 4,
 "nbformat_minor": 2
}
