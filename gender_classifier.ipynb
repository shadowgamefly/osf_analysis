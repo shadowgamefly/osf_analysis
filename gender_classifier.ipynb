{
 "cells": [
  {
   "cell_type": "code",
   "execution_count": 1,
   "metadata": {},
   "outputs": [],
   "source": [
    "import os\n",
    "import json\n",
    "import pickle\n",
    "from util.data_loader import *"
   ]
  },
  {
   "cell_type": "code",
   "execution_count": 2,
   "metadata": {},
   "outputs": [
    {
     "name": "stdout",
     "output_type": "stream",
     "text": [
      "pickle data found and loaded\n",
      "name list loaded, 53561 names in total\n"
     ]
    }
   ],
   "source": [
    "dir = os.getcwd()\n",
    "data_dir = os.path.join(dir, 'data')\n",
    "filename = 'names.json'\n",
    "upper_threshold = 0.7\n",
    "lower_threshold = 0.3\n",
    "sex_dict = load_name_data(data_dir)\n",
    "names, total = load_json(data_dir, filename)"
   ]
  },
  {
   "cell_type": "code",
   "execution_count": 3,
   "metadata": {},
   "outputs": [],
   "source": [
    "male = {}\n",
    "female = {}\n",
    "unsure = {}\n",
    "for thre in range(5, 10):\n",
    "    thre = thre/10\n",
    "    upper_threshold = thre\n",
    "    lower_threshold = 1 - thre\n",
    "    male[thre] = 0\n",
    "    female[thre] = 0\n",
    "    unsure[thre] = 0\n",
    "    for name in names:\n",
    "        try :\n",
    "            alloc = sex_dict[name.split(' ')[0].lower()]\n",
    "            prob = alloc[0]/sum(alloc)\n",
    "            if prob > upper_threshold :\n",
    "                male[thre] += 1\n",
    "            elif prob < lower_threshold:\n",
    "                female[thre] += 1\n",
    "            else :\n",
    "                unsure[thre] += 1\n",
    "        except KeyError:\n",
    "            continue"
   ]
  },
  {
   "cell_type": "code",
   "execution_count": 4,
   "metadata": {},
   "outputs": [
    {
     "name": "stdout",
     "output_type": "stream",
     "text": [
      "{0.5: 25697, 0.6: 25416, 0.7: 25265, 0.8: 24855, 0.9: 24330} {0.5: 19060, 0.6: 18923, 0.7: 18689, 0.8: 18237, 0.9: 17607} {0.5: 7, 0.6: 425, 0.7: 810, 0.8: 1672, 0.9: 2827}\n"
     ]
    }
   ],
   "source": [
    "print(male, female, unsure)"
   ]
  }
 ],
 "metadata": {
  "kernelspec": {
   "display_name": "Python 3",
   "language": "python",
   "name": "python3"
  },
  "language_info": {
   "codemirror_mode": {
    "name": "ipython",
    "version": 3
   },
   "file_extension": ".py",
   "mimetype": "text/x-python",
   "name": "python",
   "nbconvert_exporter": "python",
   "pygments_lexer": "ipython3",
   "version": "3.6.1"
  }
 },
 "nbformat": 4,
 "nbformat_minor": 2
}
