{
 "cells": [
  {
   "cell_type": "code",
   "execution_count": 1,
   "metadata": {},
   "outputs": [],
   "source": [
    "import os\n",
    "import json\n",
    "import pickle\n",
    "from util.data_loader import *\n",
    "from util.plot import *"
   ]
  },
  {
   "cell_type": "code",
   "execution_count": 2,
   "metadata": {},
   "outputs": [],
   "source": [
    "dir = os.getcwd()\n",
    "data_dir = os.path.join(dir, 'data')\n",
    "filename = 'names.json'\n",
    "upper_threshold = 0.7\n",
    "lower_threshold = 0.3\n",
    "point = 20"
   ]
  },
  {
   "cell_type": "code",
   "execution_count": 3,
   "metadata": {},
   "outputs": [
    {
     "name": "stdout",
     "output_type": "stream",
     "text": [
      "pickle data found and loaded\n",
      "name list loaded, 53561 names in total\n"
     ]
    }
   ],
   "source": [
    "sex_dict = load_name_data(data_dir)\n",
    "names, total = load_json(data_dir, filename)"
   ]
  },
  {
   "cell_type": "code",
   "execution_count": 8,
   "metadata": {},
   "outputs": [],
   "source": [
    "point = 10\n",
    "male = [0 for x in range(point)]\n",
    "female = [0 for x in range(point)]\n",
    "unsure = [0 for x in range(point)]\n",
    "key = [0.5 + 0.5 / point * x for x in range(point)]\n",
    "unknown = {}\n",
    "for i in range(point):\n",
    "    thre = key[i]\n",
    "    upper_threshold = thre\n",
    "    lower_threshold = 1 - thre\n",
    "    for name in names:\n",
    "        try :\n",
    "            alloc = sex_dict[name.split(' ')[0].lower()]\n",
    "            prob = alloc[0]/sum(alloc)\n",
    "            if prob > upper_threshold :\n",
    "                male[i] += 1\n",
    "            elif prob < lower_threshold:\n",
    "                female[i] += 1\n",
    "            else :\n",
    "                unsure[i] += 1\n",
    "        except KeyError:\n",
    "            try :\n",
    "                unknown[name.split(' ')[0].lower()] += 1\n",
    "            except KeyError:\n",
    "                unknown[name.split(' ')[0].lower()] = 0\n",
    "    male[i] = male[i]/total\n",
    "    female[i] = female[i]/total\n",
    "    unsure[i] = unsure[i]/total\n",
    "    \n",
    "    \n",
    "output = {'key': key, 'male': male, 'female' : female, 'unsure' : unsure}"
   ]
  },
  {
   "cell_type": "code",
   "execution_count": 14,
   "metadata": {},
   "outputs": [
    {
     "name": "stdout",
     "output_type": "stream",
     "text": [
      "['test', 's', 'josé', 'dr', 'loes', 'marloes', 'andré', 'friederike', 'maría', 'wouter', 'joão', 'm.', 'j.', 'benoît', 'a', 'c.', 'césar', 'r.', 'j', 'e.', 'k', 'burcu', 'andrés', 'mirjam', 'dr.', 'p.', 'm', 'gert', 'osf', 's.', 'ito', 'jochen', 'paweł', 'w.', 'a.', 'michał', 'ning', 'malte', 'stijn', 'hervé', 'rené', 'françois', 'g.', 'maike', 'ruud', 'birte', 'r', 'h.', 'c', 'jesús', 'sébastien', 'antónio', 'bastiaan', 'joost', 'rubén', 'nguyễn', 'henk', 'wim', 'd.', 'floor', 'maartje', 'roos', 'björn', 'lieke', 'prof.', 'wiebke', 'qa', '2017']\n"
     ]
    },
    {
     "data": {
      "image/png": "[encoded data removed]",
      "text/plain": [
       "<matplotlib.figure.Figure at 0x11458a358>"
      ]
     },
     "metadata": {},
     "output_type": "display_data"
    }
   ],
   "source": [
    "print([key for key in unknown if unknown[key] > 50])\n",
    "plot(output)"
   ]
  },
  {
   "cell_type": "code",
   "execution_count": null,
   "metadata": {
    "collapsed": true
   },
   "outputs": [],
   "source": []
  },
  {
   "cell_type": "code",
   "execution_count": null,
   "metadata": {
    "collapsed": true
   },
   "outputs": [],
   "source": []
  }
 ],
 "metadata": {
  "kernelspec": {
   "display_name": "Python 3",
   "language": "python",
   "name": "python3"
  },
  "language_info": {
   "codemirror_mode": {
    "name": "ipython",
    "version": 3
   },
   "file_extension": ".py",
   "mimetype": "text/x-python",
   "name": "python",
   "nbconvert_exporter": "python",
   "pygments_lexer": "ipython3",
   "version": "3.6.1"
  }
 },
 "nbformat": 4,
 "nbformat_minor": 2
}
