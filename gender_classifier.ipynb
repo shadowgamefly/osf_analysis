{
 "cells": [
  {
   "cell_type": "code",
   "execution_count": 6,
   "metadata": {},
   "outputs": [],
   "source": [
    "import os\n",
    "import json\n",
    "import pickle\n",
    "from util.data_loader import *"
   ]
  },
  {
   "cell_type": "code",
   "execution_count": 9,
   "metadata": {},
   "outputs": [
    {
     "name": "stdout",
     "output_type": "stream",
     "text": [
      "pickle data found and loaded\n"
     ]
    }
   ],
   "source": [
    "dir = os.getcwd()\n",
    "data_dir = os.fsencode(dir + '/data')\n",
    "try :\n",
    "    with open('gender.pickle', 'rb') as f:\n",
    "        sex_dict = pickle.load(f)\n",
    "        print('pickle data found and loaded')\n",
    "except (EOFError, FileNotFoundError) as e:\n",
    "    if e == EOFError:\n",
    "        print('current pickle data is broken')\n",
    "        print('reloading...')\n",
    "    elif e == FileNotFoundErro:\n",
    "        print('no loaded data found')\n",
    "        print('loading...')\n",
    "    sex_dict = load_name_data(data_dir)"
   ]
  },
  {
   "cell_type": "code",
   "execution_count": null,
   "metadata": {},
   "outputs": [],
   "source": [
    "num =0\n",
    "for key in data:\n",
    "    num += data[key][0] + data[key][1]\n",
    "print(num)"
   ]
  },
  {
   "cell_type": "code",
   "execution_count": null,
   "metadata": {
    "collapsed": true
   },
   "outputs": [],
   "source": [
    "with open('names.json', 'rb') as f:\n",
    "    names = json.loads(f.read())"
   ]
  },
  {
   "cell_type": "code",
   "execution_count": null,
   "metadata": {},
   "outputs": [],
   "source": [
    "not_found = 0\n",
    "male = 0\n",
    "female = 0\n",
    "unsure = 0\n",
    "for name in names:\n",
    "    try :\n",
    "        alloc = data[name.split(' ')[0].lower()]\n",
    "        prob = alloc[0]/sum(alloc)\n",
    "        if prob > 0.7 :\n",
    "            male += 1\n",
    "        elif prob < 0.3 :\n",
    "            female += 1\n",
    "        else :\n",
    "            unsure += 1\n",
    "    except KeyError:\n",
    "        print(name.split(' ')[0].lower())\n",
    "        not_found += 1"
   ]
  },
  {
   "cell_type": "code",
   "execution_count": null,
   "metadata": {},
   "outputs": [],
   "source": [
    "print(not_found, male, female, unsure, len(names))"
   ]
  }
 ],
 "metadata": {
  "kernelspec": {
   "display_name": "Python 3",
   "language": "python",
   "name": "python3"
  },
  "language_info": {
   "codemirror_mode": {
    "name": "ipython",
    "version": 3
   },
   "file_extension": ".py",
   "mimetype": "text/x-python",
   "name": "python",
   "nbconvert_exporter": "python",
   "pygments_lexer": "ipython3",
   "version": "3.6.1"
  }
 },
 "nbformat": 4,
 "nbformat_minor": 2
}
