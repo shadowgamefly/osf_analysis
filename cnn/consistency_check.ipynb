{
 "cells": [
  {
   "cell_type": "code",
   "execution_count": 31,
   "metadata": {
    "collapsed": true
   },
   "outputs": [],
   "source": [
    "import json\n",
    "import matplotlib.pyplot as plt"
   ]
  },
  {
   "cell_type": "code",
   "execution_count": 3,
   "metadata": {},
   "outputs": [
    {
     "name": "stdout",
     "output_type": "stream",
     "text": [
      "28384\n"
     ]
    }
   ],
   "source": [
    "with open('../data/projects_with_contributors.json', 'r') as f:\n",
    "    projects = json.load(f)\n",
    "print(len(projects))"
   ]
  },
  {
   "cell_type": "code",
   "execution_count": 4,
   "metadata": {
    "collapsed": true
   },
   "outputs": [],
   "source": [
    "pruned_projects = [project for project in projects if len(project['description'].split(' ')) > 10]"
   ]
  },
  {
   "cell_type": "code",
   "execution_count": 5,
   "metadata": {},
   "outputs": [
    {
     "name": "stdout",
     "output_type": "stream",
     "text": [
      "7200\n"
     ]
    }
   ],
   "source": [
    "print(len(pruned_projects))"
   ]
  },
  {
   "cell_type": "code",
   "execution_count": 6,
   "metadata": {
    "collapsed": true
   },
   "outputs": [],
   "source": [
    "project_dict = {}\n",
    "for project in pruned_projects:\n",
    "    project_dict[project['_id']] = project['description']"
   ]
  },
  {
   "cell_type": "code",
   "execution_count": 7,
   "metadata": {
    "collapsed": true
   },
   "outputs": [],
   "source": [
    "author_dict = dict()\n",
    "for project in pruned_projects:\n",
    "    for contrib in project['contributors']:\n",
    "        if contrib in author_dict:\n",
    "            author_dict[contrib].append(project['_id'])\n",
    "        else :\n",
    "            author_dict[contrib] = [project['_id']]"
   ]
  },
  {
   "cell_type": "code",
   "execution_count": 8,
   "metadata": {},
   "outputs": [
    {
     "name": "stdout",
     "output_type": "stream",
     "text": [
      "127\n"
     ]
    }
   ],
   "source": [
    "major_author = []\n",
    "for author in author_dict:\n",
    "    if len(author_dict[author]) > 10:\n",
    "        major_author.append(author)  \n",
    "print(len(major_author))"
   ]
  },
  {
   "cell_type": "code",
   "execution_count": 9,
   "metadata": {
    "collapsed": true
   },
   "outputs": [],
   "source": [
    "with open('runs/1500578799/prediction.json') as f:\n",
    "    results = json.load(f)"
   ]
  },
  {
   "cell_type": "code",
   "execution_count": 11,
   "metadata": {
    "collapsed": true
   },
   "outputs": [],
   "source": [
    "result = {}\n",
    "for out in results:\n",
    "    result[out['id']] = out['category']"
   ]
  },
  {
   "cell_type": "code",
   "execution_count": 19,
   "metadata": {
    "scrolled": false
   },
   "outputs": [],
   "source": [
    "def get_count(score):\n",
    "    total = 0\n",
    "    for author in major_author:\n",
    "        out = {i : 0 for i in range(10)}\n",
    "        count = 0\n",
    "        for project_id in author_dict[author]:\n",
    "            category = result[project_id]\n",
    "            if category == -1:\n",
    "                continue\n",
    "            out[category] += 1\n",
    "            count += 1\n",
    "        concentrate = 0\n",
    "        for cat in sorted(out, key=out.get, reverse=True)[:2]:\n",
    "            concentrate += out[cat]\n",
    "        if concentrate/count > score:\n",
    "            total += 1\n",
    "    return total"
   ]
  },
  {
   "cell_type": "code",
   "execution_count": 21,
   "metadata": {
    "collapsed": true
   },
   "outputs": [],
   "source": [
    "count = []\n",
    "for score in range(20):\n",
    "    score = score/20\n",
    "    count.append(get_count(score) / len(major_author))"
   ]
  },
  {
   "cell_type": "code",
   "execution_count": 38,
   "metadata": {
    "collapsed": true
   },
   "outputs": [],
   "source": [
    "def plot(count):\n",
    "    fig, ax1 = plt.subplots()\n",
    "    ax1.set_xlabel('percentage of projects in top 2 categories')\n",
    "    ax1.set_ylabel('Percentage of authors in major_author')\n",
    "    ax1.plot([c/20 for c in range(20)], count, '-o')\n",
    "    plt.legend(loc='best')\n",
    "    plt.show()"
   ]
  },
  {
   "cell_type": "code",
   "execution_count": 39,
   "metadata": {},
   "outputs": [
    {
     "name": "stderr",
     "output_type": "stream",
     "text": [
      "/Users/jerrysun/miniconda3/envs/osf/lib/python3.6/site-packages/matplotlib/axes/_axes.py:545: UserWarning: No labelled objects found. Use label='...' kwarg on individual plots.\n",
      "  warnings.warn(\"No labelled objects found. \"\n"
     ]
    },
    {
     "data": {
      "image/png": "[encoded data removed]",
      "text/plain": [
       "<matplotlib.figure.Figure at 0x1207ba400>"
      ]
     },
     "metadata": {},
     "output_type": "display_data"
    }
   ],
   "source": [
    "plot(count)"
   ]
  }
 ],
 "metadata": {
  "kernelspec": {
   "display_name": "Python 3",
   "language": "python",
   "name": "python3"
  },
  "language_info": {
   "codemirror_mode": {
    "name": "ipython",
    "version": 3
   },
   "file_extension": ".py",
   "mimetype": "text/x-python",
   "name": "python",
   "nbconvert_exporter": "python",
   "pygments_lexer": "ipython3",
   "version": "3.6.1"
  }
 },
 "nbformat": 4,
 "nbformat_minor": 2
}
