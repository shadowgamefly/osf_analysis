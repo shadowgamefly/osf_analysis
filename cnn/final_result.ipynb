{
 "cells": [
  {
   "cell_type": "code",
   "execution_count": 18,
   "metadata": {},
   "outputs": [],
   "source": [
    "import json\n",
    "from collections import Counter"
   ]
  },
  {
   "cell_type": "code",
   "execution_count": 19,
   "metadata": {
    "collapsed": true
   },
   "outputs": [],
   "source": [
    "with open('runs/1500578799/prediction.json') as f:\n",
    "    results = json.load(f)"
   ]
  },
  {
   "cell_type": "code",
   "execution_count": 24,
   "metadata": {},
   "outputs": [],
   "source": [
    "count = Counter(result['category'] for result in results)\n",
    "final_result = dict(count)\n",
    "replace = { -1 : 'unknown', 0 : 'law', 1 : 'social-and-behavioral-sciences', 2 : 'arts-and-humanities', 3 : 'education', 4 : 'medicine-and-health-sciences', \\\n",
    "     5 : 'life-sciences', 6 : 'physical-sciences-and-mathematics', 7 : 'engineering', 8 : 'business', 9 : 'architecture'}\n",
    "\n",
    "for old_key in range(-1, 10):\n",
    "    final_result[replace[old_key]] = final_result.pop(old_key)"
   ]
  },
  {
   "cell_type": "code",
   "execution_count": 26,
   "metadata": {},
   "outputs": [],
   "source": [
    "with open('final_result.json', 'w') as f:\n",
    "    json.dump(final_result, f)"
   ]
  },
  {
   "cell_type": "code",
   "execution_count": 27,
   "metadata": {},
   "outputs": [
    {
     "name": "stdout",
     "output_type": "stream",
     "text": [
      "{'unknown': 464, 'law': 257, 'social-and-behavioral-sciences': 273, 'arts-and-humanities': 1145, 'education': 712, 'medicine-and-health-sciences': 990, 'life-sciences': 540, 'physical-sciences-and-mathematics': 1777, 'engineering': 266, 'business': 897, 'architecture': 62}\n"
     ]
    }
   ],
   "source": [
    "print(final_result)"
   ]
  }
 ],
 "metadata": {
  "kernelspec": {
   "display_name": "Python 3",
   "language": "python",
   "name": "python3"
  },
  "language_info": {
   "codemirror_mode": {
    "name": "ipython",
    "version": 3
   },
   "file_extension": ".py",
   "mimetype": "text/x-python",
   "name": "python",
   "nbconvert_exporter": "python",
   "pygments_lexer": "ipython3",
   "version": "3.6.1"
  }
 },
 "nbformat": 4,
 "nbformat_minor": 2
}
